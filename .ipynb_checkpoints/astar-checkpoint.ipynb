{
 "cells": [
  {
   "cell_type": "markdown",
   "id": "ff09cc86",
   "metadata": {},
   "source": [
    "## Imports and constants"
   ]
  },
  {
   "cell_type": "code",
   "execution_count": null,
   "id": "d885b9d0",
   "metadata": {},
   "outputs": [],
   "source": [
    "import math\n",
    "import numpy as np\n",
    "import pandas as pd\n",
    "import shapely\n",
    "import matplotlib\n",
    "from matplotlib import pylab as plt\n",
    "import geopandas as gpd\n",
    "import pyproj\n",
    "import contextily as ctx\n",
    "\n",
    "from shapely.geometry import Point, LineString, MultiPoint, Polygon, GeometryCollection\n",
    "from shapely.ops import unary_union\n",
    "from shapely.wkt import loads as wkt_load"
   ]
  },
  {
   "cell_type": "code",
   "execution_count": null,
   "id": "9611d532",
   "metadata": {},
   "outputs": [],
   "source": [
    "crs_gps = pyproj.CRS.from_epsg('4326') # WGS84 Merkator (degrees)\n",
    "crs_web = pyproj.CRS.from_epsg('3857') # Pseudo-Merkator (meters)\n",
    "crs_est = pyproj.CRS.from_epsg('3301') # Estonian Coordinate System"
   ]
  },
  {
   "cell_type": "code",
   "execution_count": null,
   "id": "ac8ac33c",
   "metadata": {},
   "outputs": [],
   "source": [
    "# https://epsg.io/transform#s_srs=4326&t_srs=3301 - used this to convert from gps to estonian coordinate system\n",
    "# needed to invert latitude and longitude\n",
    "delta = Point(659351.9779390106, 6474942.48407838)\n",
    "lounakeskus = Point(656661.9914198933, 6471868.239886967)\n",
    "sirius = Point(659234.2258483924, 6471525.160984464)\n",
    "ihaste = Point(663231.1552057452, 6471198.855079322)\n",
    "kvissental = Point(657392.1712729766, 6477063.679848602)"
   ]
  },
  {
   "cell_type": "code",
   "execution_count": null,
   "id": "5f03e782",
   "metadata": {},
   "outputs": [],
   "source": [
    "data = pd.read_csv(\"data/driveways_cleaned.csv\", index_col=\"global_id\")\n",
    "data[\"geometry\"] = data[\"geometry\"].apply(wkt_load)\n",
    "gdf_data = gpd.GeoDataFrame(data, geometry=\"geometry\", crs=crs_est)\n",
    "# Remove 3 instances of MultiLineStrings (they don't allow for coords)\n",
    "gdf_data = gdf_data[gdf_data.geometry.geom_type == \"LineString\"]\n",
    "gdf_data[\"start_node_x\"] = gdf_data.geometry.apply(lambda row: round(row.coords[0][0],3))\n",
    "gdf_data[\"start_node_y\"] = gdf_data.geometry.apply(lambda row: round(row.coords[0][1],3))\n",
    "gdf_data[\"end_node_x\"] = gdf_data.geometry.apply(lambda row: round(row.coords[-1][0],3))\n",
    "gdf_data[\"end_node_y\"] = gdf_data.geometry.apply(lambda row: round(row.coords[-1][1],3))\n",
    "gdf_data.head()\n",
    "gdf_data.head()"
   ]
  },
  {
   "cell_type": "code",
   "execution_count": null,
   "id": "3a999265",
   "metadata": {},
   "outputs": [],
   "source": [
    "from collections import defaultdict\n",
    "# defaultdict of start nodes that points to a defaultdict of end nodes that points to a tuple that ->\n",
    "# -> contains the distance of the end node and the global id of the road one should take\n",
    "graph = defaultdict(lambda: defaultdict( lambda: [math.inf, None]))\n",
    "\n",
    "for index, row in gdf_data.iterrows():\n",
    "    # there were 3 lines that were MultiLineString which didn't allow for coords, so I excluded them\n",
    "    if row.geometry.geom_type != \"LineString\":\n",
    "        continue\n",
    "    start_node = (row.start_node_x, row.start_node_y)\n",
    "    end_node = (row.end_node_x, row.end_node_y)\n",
    "    graph[start_node][end_node] = [row.length, index] \n",
    "    # if traffic is two-way, need to add an edge from end to beginning\n",
    "    if row.directionality == 0:\n",
    "        graph[end_node][start_node] = [row.length, index]"
   ]
  },
  {
   "cell_type": "markdown",
   "id": "00fc6938",
   "metadata": {},
   "source": [
    "## Helpers"
   ]
  },
  {
   "cell_type": "code",
   "execution_count": 3,
   "id": "73ac7248",
   "metadata": {},
   "outputs": [],
   "source": [
    "def get_closest_road_idx(point, road_table):\n",
    "    distances_to_roads = point.distance(road_table[\"geometry\"])\n",
    "    return distances_to_roads.idxmin()\n",
    "\n",
    "def get_road_start(road_idx, road_table):\n",
    "    return (gdf_data.loc[road_idx].start_node_x, gdf_data.loc[road_idx].start_node_y)\n",
    "\n",
    "def get_road_end(road_idx, road_table):\n",
    "    return (gdf_data.loc[road_idx].end_node_x, gdf_data.loc[road_idx].end_node_y)\n",
    "\n",
    "def get_node_idx(node_tuple, nodes):\n",
    "    for i in range(len(nodes)):\n",
    "        if nodes[i] == node_tuple:\n",
    "            return i\n",
    "    return None\n",
    "\n",
    "def recreate_path(pn, end):\n",
    "    prev, road = pn[end]\n",
    "    roads = [road]\n",
    "    while pn[prev] != None:\n",
    "        roads.append(road)\n",
    "        prev, road = pn[prev]\n",
    "    roads.reverse()\n",
    "    return roads"
   ]
  },
  {
   "cell_type": "markdown",
   "id": "e9664e76",
   "metadata": {},
   "source": [
    "## A-star algorithm"
   ]
  },
  {
   "cell_type": "code",
   "execution_count": null,
   "id": "ebb01e69",
   "metadata": {},
   "outputs": [],
   "source": [
    "from queue import PriorityQueue\n",
    "from collections import defaultdict\n",
    "from math import sqrt\n",
    "\n",
    "def heuristic(a, b):\n",
    "    (x1, y1) = a\n",
    "    (x2, y2) = b\n",
    "    return sqrt((x1 - x2) ** 2 + (y1 - y2) ** 2)\n",
    "\n",
    "def a_star_search(graph, start):\n",
    "    frontier = PriorityQueue()\n",
    "    frontier.put((0, start))\n",
    "    came_from = {}\n",
    "    cost_so_far = {}\n",
    "    came_from[start] = None\n",
    "    cost_so_far[start] = 0\n",
    "\n",
    "    while not frontier.empty():\n",
    "        current = frontier.get()[1]\n",
    "\n",
    "        for next, (distance, road_id) in graph[current].items():\n",
    "            new_cost = cost_so_far[current] + distance\n",
    "            if next not in cost_so_far or new_cost < cost_so_far[next]:\n",
    "                cost_so_far[next] = new_cost\n",
    "                priority = new_cost + heuristic(goal, next)\n",
    "                frontier.put((priority, next))\n",
    "                came_from[next] = current, road_id\n",
    "\n",
    "    return cost_so_far, came_from"
   ]
  },
  {
   "cell_type": "code",
   "execution_count": null,
   "id": "8c20e89c",
   "metadata": {},
   "outputs": [],
   "source": [
    "delta_road = get_closest_road_idx(delta, gdf_data)\n",
    "start = get_road_start(delta_road, gdf_data)\n",
    "lounakeskus_road = get_closest_road_idx(lounakeskus, gdf_data)\n",
    "end_lounakeskus = get_road_end(lounakeskus_road, gdf_data)\n",
    "sirius_road = get_closest_road_idx(sirius, gdf_data)\n",
    "end_sirius = get_road_end(sirius_road, gdf_data)\n",
    "ihaste_road = get_closest_road_idx(ihaste, gdf_data)\n",
    "end_ihaste = get_road_end(ihaste_road, gdf_data)\n",
    "kvissental_road = get_closest_road_idx(kvissental, gdf_data)\n",
    "end_kvissental = get_road_end(kvissental_road, gdf_data)"
   ]
  },
  {
   "cell_type": "code",
   "execution_count": null,
   "id": "e1fdc2b4",
   "metadata": {},
   "outputs": [],
   "source": [
    "start_dijkstra = perf_counter()\n",
    "distances, prev_roads = pq_dijkstra(graph, start)\n",
    "print(f'Time taken: {perf_counter() - start_dijkstra}')\n",
    "path_lounakeskus = recreate_path(prev_roads, end_lounakeskus)\n",
    "path_lounakeskus.insert(0, delta_road)\n",
    "path_sirius = recreate_path(prev_roads, end_sirius)\n",
    "path_sirius.insert(0, delta_road)\n",
    "path_ihaste = recreate_path(prev_roads, end_ihaste)\n",
    "path_ihaste.insert(0, delta_road)\n",
    "path_kvissental = recreate_path(prev_roads, end_kvissental)\n",
    "path_kvissental.insert(0, delta_road)"
   ]
  }
 ],
 "metadata": {
  "kernelspec": {
   "display_name": "Python 3 (ipykernel)",
   "language": "python",
   "name": "python3"
  },
  "language_info": {
   "codemirror_mode": {
    "name": "ipython",
    "version": 3
   },
   "file_extension": ".py",
   "mimetype": "text/x-python",
   "name": "python",
   "nbconvert_exporter": "python",
   "pygments_lexer": "ipython3",
   "version": "3.9.12"
  }
 },
 "nbformat": 4,
 "nbformat_minor": 5
}
