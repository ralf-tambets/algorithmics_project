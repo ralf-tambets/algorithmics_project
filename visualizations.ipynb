{
 "cells": [
  {
   "cell_type": "code",
   "execution_count": 34,
   "id": "9132c69e",
   "metadata": {},
   "outputs": [],
   "source": [
    "import math\n",
    "import numpy as np\n",
    "import pandas as pd\n",
    "import shapely\n",
    "import matplotlib\n",
    "from matplotlib import pylab as plt\n",
    "import geopandas as gpd\n",
    "import pyproj\n",
    "import contextily as ctx\n",
    "from time import perf_counter\n",
    "from copy import deepcopy\n",
    "\n",
    "from shapely.geometry import Point, LineString, MultiPoint, Polygon, GeometryCollection\n",
    "from shapely.ops import unary_union, nearest_points\n",
    "from shapely.wkt import loads as wkt_load\n",
    "\n",
    "from queue import PriorityQueue\n",
    "from collections import defaultdict\n",
    "from math import sqrt\n",
    "\n",
    "crs_gps = pyproj.CRS.from_epsg('4326') # WGS84 Merkator (degrees)\n",
    "crs_web = pyproj.CRS.from_epsg('3857') # Pseudo-Merkator (meters)\n",
    "crs_est = pyproj.CRS.from_epsg('3301') # Estonian Coordinate System\n",
    "\n",
    "# https://epsg.io/transform#s_srs=4326&t_srs=3301 - used this to convert from gps to estonian coordinate system\n",
    "# needed to invert latitude and longitude\n",
    "delta = Point(659351.9779390106, 6474942.48407838)\n",
    "lounakeskus = Point(656661.9914198933, 6471868.239886967)\n",
    "sirius = Point(659234.2258483924, 6471525.160984464)\n",
    "ihaste = Point(663231.1552057452, 6471198.855079322)\n",
    "kvissental = Point(657392.1712729766, 6477063.679848602)"
   ]
  },
  {
   "cell_type": "code",
   "execution_count": 35,
   "id": "b8473e4d",
   "metadata": {},
   "outputs": [],
   "source": [
    "data = pd.read_csv(\"data/driveways_cleaned.csv\", index_col=\"global_id\")\n",
    "data[\"geometry\"] = data[\"geometry\"].apply(wkt_load)\n",
    "gdf_data = gpd.GeoDataFrame(data, geometry=\"geometry\", crs=crs_est)\n",
    "# Remove 3 instances of MultiLineStrings (they don't allow for coords)\n",
    "gdf_data = gdf_data[gdf_data.geometry.geom_type == \"LineString\"]\n",
    "gdf_data[\"start_node_x\"] = gdf_data.geometry.apply(lambda row: round(row.coords[0][0],3))\n",
    "gdf_data[\"start_node_y\"] = gdf_data.geometry.apply(lambda row: round(row.coords[0][1],3))\n",
    "gdf_data[\"end_node_x\"] = gdf_data.geometry.apply(lambda row: round(row.coords[-1][0],3))\n",
    "gdf_data[\"end_node_y\"] = gdf_data.geometry.apply(lambda row: round(row.coords[-1][1],3))\n",
    "gdf_data.head()\n",
    "\n",
    "# defaultdict of start nodes that points to a defaultdict of end nodes that points to a tuple that ->\n",
    "# -> contains the distance of the end node and the global id of the road one should take\n",
    "graph = defaultdict(lambda: defaultdict( lambda: [math.inf, None]))\n",
    "\n",
    "for index, row in gdf_data.iterrows():\n",
    "    # there were 3 lines that were MultiLineString which didn't allow for coords, so I excluded them\n",
    "    if row.geometry.geom_type != \"LineString\":\n",
    "        continue\n",
    "    start_node = (row.start_node_x, row.start_node_y)\n",
    "    end_node = (row.end_node_x, row.end_node_y)\n",
    "    graph[start_node][end_node] = [row.length, index] \n",
    "    # if traffic is two-way, need to add an edge from end to beginning\n",
    "    if row.directionality == 0:\n",
    "        graph[end_node][start_node] = [row.length, index]"
   ]
  },
  {
   "cell_type": "code",
   "execution_count": 4,
   "id": "3f770927",
   "metadata": {},
   "outputs": [],
   "source": [
    "delta_road = get_closest_road_idx(delta, gdf_data)\n",
    "start = get_road_start(delta_road, gdf_data)\n",
    "lounakeskus_road = get_closest_road_idx(lounakeskus, gdf_data)\n",
    "end_lounakeskus = get_road_end(lounakeskus_road, gdf_data)\n",
    "sirius_road = get_closest_road_idx(sirius, gdf_data)\n",
    "end_sirius = get_road_end(sirius_road, gdf_data)\n",
    "ihaste_road = get_closest_road_idx(ihaste, gdf_data)\n",
    "end_ihaste = get_road_end(ihaste_road, gdf_data)\n",
    "kvissental_road = get_closest_road_idx(kvissental, gdf_data)\n",
    "end_kvissental = get_road_end(kvissental_road, gdf_data)"
   ]
  },
  {
   "cell_type": "code",
   "execution_count": 36,
   "id": "5a6244d3",
   "metadata": {},
   "outputs": [],
   "source": [
    "# helper functions\n",
    "\n",
    "def get_closest_road_idx(point, road_table):\n",
    "    distances_to_roads = point.distance(road_table[\"geometry\"])\n",
    "    return distances_to_roads.idxmin()\n",
    "\n",
    "def get_road_start(road_idx, road_table):\n",
    "    return (gdf_data.loc[road_idx].start_node_x, gdf_data.loc[road_idx].start_node_y)\n",
    "\n",
    "def get_road_end(road_idx, road_table):\n",
    "    return (gdf_data.loc[road_idx].end_node_x, gdf_data.loc[road_idx].end_node_y)\n",
    "\n",
    "def get_node_idx(node_tuple, nodes):\n",
    "    for i in range(len(nodes)):\n",
    "        if nodes[i] == node_tuple:\n",
    "            return i\n",
    "    return None\n",
    "\n",
    "def recreate_path(pn, end):\n",
    "    prev, road = pn[end]\n",
    "    roads = [road]\n",
    "    while pn[prev] != None:\n",
    "        roads.append(road)\n",
    "        prev, road = pn[prev]\n",
    "    roads.reverse()\n",
    "    return roads\n",
    "\n",
    "# A*, implementation 1\n",
    "\n",
    "def calculate_heuristic(start, end):\n",
    "    return math.sqrt((start[0] - end[0])**2 + (start[1] - end[1])**2)\n",
    "\n",
    "def a_star(graph, start, end):\n",
    "    visited = set()\n",
    "    cost = {start: 0}\n",
    "    prev = {start: None}\n",
    "\n",
    "    pq = PriorityQueue()\n",
    "    \n",
    "    g_start = 0\n",
    "    h_start = calculate_heuristic(start, end)\n",
    "    f_start = g_start + h_start\n",
    "    pq.put((f_start, start))\n",
    "    \n",
    "    steps = 1\n",
    "\n",
    "    while pq:\n",
    "        while not pq.empty():\n",
    "            _, node = pq.get()\n",
    "            if node == end:\n",
    "                break\n",
    "            if node not in visited:\n",
    "                break\n",
    "        if node == end:\n",
    "            break\n",
    "        if node in visited:\n",
    "            break\n",
    "        steps += 1\n",
    "        visited.add(node)\n",
    "        for neighbor in graph[node].keys():\n",
    "            if neighbor in visited:\n",
    "                continue\n",
    "            distance, road = graph[node][neighbor]\n",
    "            old_cost = cost.get(neighbor, math.inf)\n",
    "            new_g_cost = cost[node] + distance\n",
    "            new_f_cost = new_g_cost + calculate_heuristic(node, neighbor)\n",
    "            if new_f_cost < old_cost:\n",
    "                pq.put((new_f_cost, neighbor))\n",
    "                cost[neighbor] = new_g_cost\n",
    "                prev[neighbor] = (node, road)\n",
    "\n",
    "    return cost, prev, steps\n",
    "\n",
    "#A*, implementation 2\n",
    "\n",
    "def heuristic(a, b):\n",
    "    (x1, y1) = a\n",
    "    (x2, y2) = b\n",
    "    return sqrt((x1 - x2) ** 2 + (y1 - y2) ** 2)\n",
    "\n",
    "def a_star_search(graph, start, goal):\n",
    "    frontier = PriorityQueue()\n",
    "    frontier.put((0, start))\n",
    "    came_from = {}\n",
    "    cost_so_far = {}\n",
    "    came_from[start] = None\n",
    "    cost_so_far[start] = 0\n",
    "    steps = 0\n",
    "\n",
    "    while not frontier.empty():\n",
    "        current = frontier.get()[1]\n",
    "        steps += 1\n",
    "\n",
    "        for next, (distance, road_id) in graph[current].items():\n",
    "            if next == goal:\n",
    "                break\n",
    "            new_cost = cost_so_far[current] + distance\n",
    "            if next not in cost_so_far or new_cost < cost_so_far[next]:\n",
    "                cost_so_far[next] = new_cost\n",
    "                priority = new_cost + heuristic(goal, next)\n",
    "                frontier.put((priority, next))\n",
    "                came_from[next] = current, road_id\n",
    "        if next == goal:\n",
    "            break\n",
    "\n",
    "    return cost_so_far, came_from, steps\n",
    "\n",
    "\n",
    "\n",
    "# dijkstra with endpoint\n",
    "def pq_dijkstra(graph, start, end):\n",
    "    visited = set()\n",
    "    cost = {start: 0}\n",
    "    prev = {start: None}\n",
    "\n",
    "    pq = PriorityQueue()\n",
    "    pq.put((0, start))\n",
    "    \n",
    "    steps = 1\n",
    "\n",
    "    while pq:\n",
    "        while not pq.empty():\n",
    "            _, node = pq.get()\n",
    "            if node == end:\n",
    "                break\n",
    "            if node not in visited:\n",
    "                break\n",
    "        if node == end:\n",
    "            break\n",
    "        if node in visited:\n",
    "            break\n",
    "            if node not in visited:\n",
    "                break\n",
    "        if node in visited:\n",
    "            break\n",
    "        steps += 1\n",
    "        visited.add(node)\n",
    "        for neighbor in graph[node].keys():\n",
    "            if neighbor in visited:\n",
    "                continue\n",
    "            distance, road = graph[node][neighbor]\n",
    "            old_cost = cost.get(neighbor, math.inf)\n",
    "            new_cost = cost[node] + distance\n",
    "            if new_cost < old_cost:\n",
    "                pq.put((new_cost, neighbor))\n",
    "                cost[neighbor] = new_cost\n",
    "                prev[neighbor] = (node, road)\n",
    "\n",
    "    return cost, prev, steps"
   ]
  },
  {
   "cell_type": "markdown",
   "id": "820c4fc1",
   "metadata": {},
   "source": [
    "### Timing the algorithms and counting steps"
   ]
  },
  {
   "cell_type": "code",
   "execution_count": 41,
   "id": "a31fa327",
   "metadata": {},
   "outputs": [],
   "source": [
    "N = 100\n",
    "\n",
    "np.random.seed(1)\n",
    "\n",
    "dijkstra_times = []\n",
    "a_star_times = []\n",
    "\n",
    "dijkstra_steps = []\n",
    "a_star_steps = []\n",
    "\n",
    "for i in range(N):\n",
    "    start_row = gdf_data.sample()\n",
    "    end_row = gdf_data.sample()\n",
    "    while end_row.index == start_row.index:\n",
    "        end_row = gdf_data.sample()\n",
    "    start_node = (start_row.start_node_x[0], start_row.start_node_y[0])\n",
    "    end_node = (end_row.end_node_x[0], end_row.end_node_y[0])\n",
    "    \n",
    "    start_dijkstra = perf_counter()\n",
    "    _, _, steps = pq_dijkstra(graph, start_node, end_node)\n",
    "    dijkstra_times.append(perf_counter() - start_dijkstra)\n",
    "    dijkstra_steps.append(steps)\n",
    "\n",
    "    start_a_star = perf_counter()\n",
    "    _, _, steps = a_star_search(graph, start_node, end_node)\n",
    "    a_star_times.append(perf_counter() - start_a_star)\n",
    "    a_star_steps.append(steps)"
   ]
  },
  {
   "cell_type": "markdown",
   "id": "904b49fd",
   "metadata": {},
   "source": [
    "### Box plot of times"
   ]
  },
  {
   "cell_type": "code",
   "execution_count": 44,
   "id": "10fed9a6",
   "metadata": {},
   "outputs": [
    {
     "data": {
      "text/plain": "<Figure size 864x576 with 1 Axes>",
      "image/png": "[encoded data removed]"
     },
     "metadata": {
      "needs_background": "light"
     },
     "output_type": "display_data"
    }
   ],
   "source": [
    "fig = plt.figure(figsize =(12, 8))\n",
    " \n",
    "plt.boxplot([dijkstra_times, a_star_times])\n",
    "#plt.yscale(\"log\")\n",
    "plt.xticks(ticks = range(1, 3), labels = ['Dijkstra', 'A*'])\n",
    "\n",
    "plt.title(\"Time taken to find distance between 2 random points (100 total experiments)\")\n",
    "plt.xlabel(\"Algorithm used\")\n",
    "plt.ylabel(\"Time taken\")\n",
    "\n",
    "plt.show()"
   ]
  },
  {
   "cell_type": "markdown",
   "id": "152c3127",
   "metadata": {},
   "source": [
    "### Box plot of steps"
   ]
  },
  {
   "cell_type": "code",
   "execution_count": 45,
   "id": "c2043c2b",
   "metadata": {
    "scrolled": false
   },
   "outputs": [
    {
     "data": {
      "text/plain": "<Figure size 864x576 with 1 Axes>",
      "image/png": "[encoded data removed]"
     },
     "metadata": {
      "needs_background": "light"
     },
     "output_type": "display_data"
    }
   ],
   "source": [
    "fig = plt.figure(figsize =(12, 8))\n",
    " \n",
    "plt.boxplot([dijkstra_steps, a_star_steps])\n",
    "#plt.yscale(\"log\")\n",
    "plt.xticks(ticks = range(1, 3), labels = ['Dijkstra', 'A*'])\n",
    "\n",
    "plt.title(\"Steps taken to find distance between 2 random points (100 total experiments)\")\n",
    "plt.xlabel(\"Algorithm used\")\n",
    "plt.ylabel(\"Steps taken\")\n",
    "\n",
    "plt.show()"
   ]
  },
  {
   "cell_type": "markdown",
   "id": "31aef74b",
   "metadata": {},
   "source": [
    "### Dijkstra comparison (Time taken until the whole graph is analysed)"
   ]
  },
  {
   "cell_type": "code",
   "execution_count": 46,
   "id": "8ae5ff32",
   "metadata": {},
   "outputs": [],
   "source": [
    "d_times = []\n",
    "\n",
    "np.random.seed(1)\n",
    "\n",
    "for i in range(N):\n",
    "    start_row = gdf_data.sample()\n",
    "    start_node = (start_row.start_node_x[0], start_row.start_node_y[0])\n",
    "    pc = perf_counter()\n",
    "    pq_dijkstra(graph, start_node, None)\n",
    "    d_times.append(perf_counter() - pc)"
   ]
  },
  {
   "cell_type": "code",
   "execution_count": 33,
   "id": "d6aaa0cc",
   "metadata": {
    "scrolled": true
   },
   "outputs": [
    {
     "name": "stdout",
     "output_type": "stream",
     "text": [
      "Average time taken by Dijkstra: 0.04888657047998095 seconds\n"
     ]
    }
   ],
   "source": [
    "print(f'Average time taken by Dijkstra: {np.average(np.array(d_times))} seconds')"
   ]
  },
  {
   "cell_type": "markdown",
   "id": "105c008e",
   "metadata": {},
   "source": [
    "## NB! Dijkstra without priority queue took 157 seconds to go through the whole graph"
   ]
  }
 ],
 "metadata": {
  "kernelspec": {
   "display_name": "Python 3 (ipykernel)",
   "language": "python",
   "name": "python3"
  },
  "language_info": {
   "codemirror_mode": {
    "name": "ipython",
    "version": 3
   },
   "file_extension": ".py",
   "mimetype": "text/x-python",
   "name": "python",
   "nbconvert_exporter": "python",
   "pygments_lexer": "ipython3",
   "version": "3.9.7"
  }
 },
 "nbformat": 4,
 "nbformat_minor": 5
}
